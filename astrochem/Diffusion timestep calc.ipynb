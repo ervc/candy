{
 "cells": [
  {
   "cell_type": "code",
   "execution_count": 11,
   "id": "6aa6690f",
   "metadata": {},
   "outputs": [],
   "source": [
    "import numpy as np\n",
    "import matplotlib.pyplot as plt\n",
    "from astropy import constants as const\n",
    "\n",
    "G = const.G.cgs.value\n",
    "M = const.M_sun.cgs.value\n",
    "au = const.au.cgs.value"
   ]
  },
  {
   "cell_type": "markdown",
   "id": "fe0bacd3",
   "metadata": {},
   "source": [
    "$$\n",
    "\\begin{align*}\n",
    "    \\Delta t &\\leq \\frac{1}{2}\\frac{(\\Delta z)^2}{D} \\\\\n",
    "        &\\leq \\frac{1}{2} \\frac{(0.1 H)^2}{\\alpha c_s H} \\\\\n",
    "        &\\leq \\frac{1}{2} \\frac{10^{-2} H^2}{\\alpha c_s H} \\\\\n",
    "        &\\leq \\frac{1}{200} \\frac{H}{\\alpha c_s} \\\\\n",
    "        &\\leq \\frac{1}{200}\\frac{1}{\\alpha\\Omega} \\qquad &\\left[H = \\frac{c_s}{\\Omega}\\right] \\\\\n",
    "        &\\leq \\frac{1}{200}\\frac{r^{3/2}}{\\alpha(GM)^{1/2}} \\qquad &\\left[\\Omega = \\left(\\frac{GM}{r^3}\\right)^{1/2}\\right]\n",
    "\\end{align*}\n",
    "$$\n",
    "\n",
    "$$\n",
    "\\boxed{\n",
    "     \\Delta t \\leq \\frac{1}{200}\\frac{r^{3/2}}{\\alpha\\left(GM\\right)^{1/2}}\n",
    "}\n",
    "$$"
   ]
  },
  {
   "cell_type": "code",
   "execution_count": 27,
   "id": "ffa7940e",
   "metadata": {},
   "outputs": [
    {
     "data": {
      "image/png": "[encoded data removed]",
      "text/plain": [
       "<Figure size 432x288 with 1 Axes>"
      ]
     },
     "metadata": {
      "needs_background": "light"
     },
     "output_type": "display_data"
    }
   ],
   "source": [
    "def max_dt(r,alpha,M=M):\n",
    "    return (1/200)*r**(3/2)/(alpha*(G*M)**(1/2))\n",
    "\n",
    "rs = np.arange(1,51)*au\n",
    "alpha = 1e-3\n",
    "\n",
    "fig,ax = plt.subplots()\n",
    "\n",
    "ax.loglog(rs/au,max_dt(rs,alpha)/3.15e7,label='max dt($\\\\alpha=10^{-3}$)')\n",
    "ax.loglog(my_dts.keys(),my_dts.values(),'.')\n",
    "ax.legend()\n",
    "ax.set(xlabel='R (au)',ylabel='$\\\\Delta t$ (yr)')\n",
    "\n",
    "plt.show()"
   ]
  },
  {
   "cell_type": "code",
   "execution_count": 39,
   "id": "e58645c7",
   "metadata": {},
   "outputs": [],
   "source": [
    "def print_dict(d):\n",
    "    for k in d.keys():\n",
    "        print(f'{k:>3d} au : {d[k]:>3.0f} yrs')"
   ]
  },
  {
   "cell_type": "code",
   "execution_count": 40,
   "id": "5a13c973",
   "metadata": {},
   "outputs": [
    {
     "name": "stdout",
     "output_type": "stream",
     "text": [
      " 10 au :  25 yrs\n",
      " 20 au :  71 yrs\n",
      " 30 au : 131 yrs\n",
      " 40 au : 202 yrs\n",
      " 50 au : 282 yrs\n",
      " 75 au : 518 yrs\n",
      "100 au : 797 yrs\n"
     ]
    }
   ],
   "source": [
    "key_rs = [10,20,30,40,50,75,100]\n",
    "dt_dict = {}\n",
    "for r in key_rs:\n",
    "    dt_dict[r] = max_dt(r*au,alpha)/3.15e7\n",
    "print_dict(dt_dict)"
   ]
  },
  {
   "cell_type": "code",
   "execution_count": 41,
   "id": "67055edc",
   "metadata": {},
   "outputs": [
    {
     "name": "stdout",
     "output_type": "stream",
     "text": [
      " 10 au :  20 yrs\n",
      " 20 au :  50 yrs\n",
      " 30 au : 100 yrs\n"
     ]
    }
   ],
   "source": [
    "my_dts = {}\n",
    "\n",
    "my_dts[10]=20\n",
    "my_dts[20]=50\n",
    "my_dts[30]=100\n",
    "\n",
    "print_dict(my_dts)"
   ]
  },
  {
   "cell_type": "code",
   "execution_count": 42,
   "id": "0149247b",
   "metadata": {},
   "outputs": [
    {
     "name": "stdout",
     "output_type": "stream",
     "text": [
      " 10 au : 100 yrs\n",
      " 20 au : 250 yrs\n",
      " 30 au : 500 yrs\n"
     ]
    }
   ],
   "source": [
    "def calc_ct(dt):\n",
    "    return 5*dt\n",
    "\n",
    "my_cts = {}\n",
    "for r in my_dts:\n",
    "    my_cts[r] = calc_ct(my_dts[r])\n",
    "\n",
    "print_dict(my_cts)"
   ]
  },
  {
   "cell_type": "code",
   "execution_count": null,
   "id": "29c71bcb",
   "metadata": {},
   "outputs": [],
   "source": []
  }
 ],
 "metadata": {
  "kernelspec": {
   "display_name": "Python 3",
   "language": "python",
   "name": "python3"
  },
  "language_info": {
   "codemirror_mode": {
    "name": "ipython",
    "version": 3
   },
   "file_extension": ".py",
   "mimetype": "text/x-python",
   "name": "python",
   "nbconvert_exporter": "python",
   "pygments_lexer": "ipython3",
   "version": "3.8.8"
  }
 },
 "nbformat": 4,
 "nbformat_minor": 5
}
